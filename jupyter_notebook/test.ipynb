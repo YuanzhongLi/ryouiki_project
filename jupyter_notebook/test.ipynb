{
 "cells": [
  {
   "cell_type": "code",
   "execution_count": 2,
   "metadata": {},
   "outputs": [],
   "source": [
    "import numpy as np\n",
    "import pandas as pd\n",
    "from scipy.sparse.linalg import spsolve\n",
    "from scipy.sparse import csr_matrix"
   ]
  },
  {
   "cell_type": "code",
   "execution_count": 4,
   "metadata": {},
   "outputs": [
    {
     "data": {
      "text/html": [
       "<div>\n",
       "<style scoped>\n",
       "    .dataframe tbody tr th:only-of-type {\n",
       "        vertical-align: middle;\n",
       "    }\n",
       "\n",
       "    .dataframe tbody tr th {\n",
       "        vertical-align: top;\n",
       "    }\n",
       "\n",
       "    .dataframe thead th {\n",
       "        text-align: right;\n",
       "    }\n",
       "</style>\n",
       "<table border=\"1\" class=\"dataframe\">\n",
       "  <thead>\n",
       "    <tr style=\"text-align: right;\">\n",
       "      <th></th>\n",
       "      <th>h</th>\n",
       "      <th>E</th>\n",
       "      <th>A</th>\n",
       "    </tr>\n",
       "  </thead>\n",
       "  <tbody>\n",
       "    <tr>\n",
       "      <th>0</th>\n",
       "      <td>1.0</td>\n",
       "      <td>2.0</td>\n",
       "      <td>2.0</td>\n",
       "    </tr>\n",
       "    <tr>\n",
       "      <th>1</th>\n",
       "      <td>1.0</td>\n",
       "      <td>2.0</td>\n",
       "      <td>1.0</td>\n",
       "    </tr>\n",
       "    <tr>\n",
       "      <th>2</th>\n",
       "      <td>1.0</td>\n",
       "      <td>2.0</td>\n",
       "      <td>0.5</td>\n",
       "    </tr>\n",
       "  </tbody>\n",
       "</table>\n",
       "</div>"
      ],
      "text/plain": [
       "     h    E    A\n",
       "0  1.0  2.0  2.0\n",
       "1  1.0  2.0  1.0\n",
       "2  1.0  2.0  0.5"
      ]
     },
     "execution_count": 4,
     "metadata": {},
     "output_type": "execute_result"
    }
   ],
   "source": [
    "# h: 要素の長さ, E: ヤング率, A: 断面積, b: 単位当たりの長さの物体力\n",
    "factor_data_dic = { 'h': [1.0, 1.0, 1.0], 'E': [2.0, 2.0, 2.0], 'A': [2.0, 1.0, 0.5] }\n",
    "df = pd.DataFrame(factor_data_dic)\n",
    "df"
   ]
  },
  {
   "cell_type": "code",
   "execution_count": 5,
   "metadata": {
    "lines_to_end_of_cell_marker": 2,
    "lines_to_next_cell": 2
   },
   "outputs": [],
   "source": [
    "# dfのi番目の節点のEA/hを計算する\n",
    "def calc_node_k(df, i):\n",
    "    h = df.loc[i, :].h\n",
    "    E = df.loc[i, :].E\n",
    "    A = df.loc[i, :].A\n",
    "    return E * A / h\n",
    "\n",
    "def solev_kf(k, f):\n",
    "    gk = csr_matrix(k)\n",
    "    disg = spsolve(gk, f, use_umfpack=True)\n",
    "    return disg\n",
    "\n",
    "# dfのi番目の要素の歪みを計算\n",
    "def calc_e(df, i, u):\n",
    "    h = df.loc[i, :].h\n",
    "    return (u[i + 1] - u[i]) / h\n",
    "\n",
    "# dfのi番目の要素の応力を計算\n",
    "def calc_o(df, i, e):\n",
    "    E = df.loc[i, :].E\n",
    "    return e[i] * E\n",
    "\n",
    "def EB1DFixedFreeFEM(df, p):\n",
    "    # 行数\n",
    "    line_num = len(df)\n",
    "    # 節点数\n",
    "    node_num = line_num + 1\n",
    "    \n",
    "    # 節点ごとEA/hの値\n",
    "    node_k_list = np.zeros(line_num)\n",
    "    for i in range(line_num):\n",
    "        node_k_list[i] = calc_node_k(df, i)\n",
    "    \n",
    "    # 剛性マトリックス\n",
    "    k = np.zeros([node_num, node_num])\n",
    "    for i in range(line_num):\n",
    "        # 2節点間の剛性マトリックス\n",
    "        node_k_matrix = node_k_list[i] * np.array([[1, -1], [-1, 1]])\n",
    "        k[i][i] += node_k_matrix[0][0]\n",
    "        k[i + 1][i] = node_k_matrix[1][0]\n",
    "        k[i][i + 1] = node_k_matrix[0][1]\n",
    "        k[i + 1][i + 1] = node_k_matrix[1][1]\n",
    "\n",
    "    f = np.zeros(node_num)\n",
    "    f[0] = -p\n",
    "    f[-1] = p\n",
    "    \n",
    "    # uは変位\n",
    "    u = np.zeros(1)\n",
    "    \n",
    "    # k_matrixからfixdedの節点を取り除いた剛性マトリックス\n",
    "    k_matrix_without_fixed_point = np.delete(k, 0, 1)\n",
    "    k_matrix_without_fixed_point = np.delete(k_matrix_without_fixed_point, 0, 0)\n",
    "    \n",
    "    u = np.append(u, solev_kf(k_matrix_without_fixed_point, f[1:]))\n",
    "    \n",
    "    # 歪み\n",
    "    e = np.zeros(line_num)\n",
    "    for i in range(line_num):\n",
    "        e[i] = calc_e(df, i, u)\n",
    "    \n",
    "    # 応力\n",
    "    o = np.zeros(line_num)\n",
    "    for i in range(line_num):\n",
    "        o[i] = calc_o(df, i, e)\n",
    "    \n",
    "    return {'変位': u, '歪み': e, '応力': o}"
   ]
  },
  {
   "cell_type": "code",
   "execution_count": 6,
   "metadata": {},
   "outputs": [
    {
     "data": {
      "text/plain": [
       "{'変位': array([0., 1., 3., 7.]),\n",
       " '歪み': array([1., 2., 4.]),\n",
       " '応力': array([2., 4., 8.])}"
      ]
     },
     "execution_count": 6,
     "metadata": {},
     "output_type": "execute_result"
    }
   ],
   "source": [
    "EB1DFixedFreeFEM(df, 4)"
   ]
  },
  {
   "cell_type": "code",
   "execution_count": null,
   "metadata": {
    "lines_to_next_cell": 2
   },
   "outputs": [],
   "source": []
  }
 ],
 "metadata": {
  "jupytext": {
   "text_representation": {
    "extension": ".py",
    "format_name": "light",
    "format_version": "1.4",
    "jupytext_version": "1.1.1"
   }
  },
  "kernelspec": {
   "display_name": "Python 3",
   "language": "python",
   "name": "python3"
  },
  "language_info": {
   "codemirror_mode": {
    "name": "ipython",
    "version": 3
   },
   "file_extension": ".py",
   "mimetype": "text/x-python",
   "name": "python",
   "nbconvert_exporter": "python",
   "pygments_lexer": "ipython3",
   "version": "3.7.3"
  }
 },
 "nbformat": 4,
 "nbformat_minor": 2
}
