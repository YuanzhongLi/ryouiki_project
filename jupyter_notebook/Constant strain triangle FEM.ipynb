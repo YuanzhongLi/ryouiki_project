{
 "cells": [
  {
   "cell_type": "code",
   "execution_count": 17,
   "metadata": {},
   "outputs": [],
   "source": [
    "import numpy as np\n",
    "import pandas as pd\n",
    "from copy import copy\n",
    "import matplotlib\n",
    "import matplotlib.pyplot as plt"
   ]
  },
  {
   "cell_type": "code",
   "execution_count": 50,
   "metadata": {},
   "outputs": [],
   "source": [
    "node_data = np.array([[0, 0], [1, 0], [0, 1], [1, 1]], dtype=np.float64)\n",
    "# connect_infoは要素を作っているnodeのglobal番号, Aは要素面積\n",
    "element_data = np.array([{\"connect_info\": [1, 4, 3], \"A\": 0.5}, {\"connect_info\": [4, 1, 2], \"A\": 0.5}])\n",
    "# 境界条件より既知となる部分\n",
    "known_part_of_d = { \"u1\": 0, \"v1\": 0, \"v2\": 0, \"u3\": 0 }\n",
    "known_part_of_F = { \"H2\": 5, \"V3\": 0, \"H4\": 5, \"V4\": 0 }\n",
    "E = 100\n",
    "PR = (1 / 3)"
   ]
  },
  {
   "cell_type": "code",
   "execution_count": 77,
   "metadata": {},
   "outputs": [],
   "source": [
    "node_data2 = np.array([[1, 1], [1, 0], [0, 1], [0, 0]], dtype=np.float64)\n",
    "element_data2 = np.array([{\"connect_info\": [1, 2, 4], \"A\": 0.5}, {\"connect_info\": [1, 3, 4], \"A\": 0.5}])\n",
    "known_part_of_d2 = { \"u3\": 0, \"v3\": 0, \"u4\": 0, \"v4\": 0 }\n",
    "known_part_of_F2 = { \"H1\": 0, \"V1\": 0, \"H2\": 0, \"V2\": -100 }\n",
    "E2 = 100\n",
    "PR2 = 0"
   ]
  },
  {
   "cell_type": "code",
   "execution_count": 78,
   "metadata": {},
   "outputs": [],
   "source": [
    "# E: Young's module PR: Poisson's ratio\n",
    "def elastic_matrix(E, PR):\n",
    "    return (E / (1 - PR ** 2)) * np.array([[1, PR, 0], [PR, 1, 0], [0, 0, (1 - PR) / 2]])"
   ]
  },
  {
   "cell_type": "code",
   "execution_count": 79,
   "metadata": {},
   "outputs": [],
   "source": [
    "# ex) nodes = np.array([[1, 1], [1, 0], [0, 0]])\n",
    "\n",
    "def shape_fucntions(nodes):\n",
    "    DSF = np.hstack([np.array([[1], [1], [1]]), nodes])\n",
    "    N1 = np.linalg.solve(DSF, np.array([1, 0, 0]))\n",
    "    N2 = np.linalg.solve(DSF, np.array([0, 1, 0]))\n",
    "    N3 = np.linalg.solve(DSF, np.array([0, 0, 1]))\n",
    "    N = np.array([N1, N2, N3])\n",
    "    return N"
   ]
  },
  {
   "cell_type": "code",
   "execution_count": 80,
   "metadata": {},
   "outputs": [],
   "source": [
    "def B_matrix(connect_info, A, node_data):\n",
    "    node1 = node_data[connect_info[0] - 1]\n",
    "    node2 = node_data[connect_info[1] - 1]\n",
    "    node3 = node_data[connect_info[2] - 1]\n",
    "    nodes = np.array([node1, node2, node3])\n",
    "    N = shape_fucntions(nodes)\n",
    "    B = (1 / (2 * A)) * np.array([\\\n",
    "                     np.array([N[0][1], 0, N[1][1], 0, N[2][1], 0]),\\\n",
    "                     np.array([0, N[0][2], 0, N[1][2], 0, N[2][2]]),\\\n",
    "                     np.array([N[0][2], N[0][1], N[1][2], N[1][1], N[2][2], N[2][1]])\\\n",
    "                    ])\n",
    "    return B"
   ]
  },
  {
   "cell_type": "code",
   "execution_count": 81,
   "metadata": {},
   "outputs": [],
   "source": [
    "def K_matrix(B_matrix, elastic_matrix, A):\n",
    "    return A * np.dot(np.dot(B_matrix.T, elastic_matrix), B_matrix)    "
   ]
  },
  {
   "cell_type": "code",
   "execution_count": 82,
   "metadata": {},
   "outputs": [],
   "source": [
    "# dの未知の要素に対応する行、列を削除\n",
    "def compress_K_F(K, d, F):\n",
    "    compressed_K = K\n",
    "    compressed_d = d\n",
    "    compressed_F = F\n",
    "#     いくつ削除したかを記憶する\n",
    "    delete_count = 0\n",
    "    for index, element_d in enumerate(d):\n",
    "        if element_d != None:\n",
    "#             削除する行と列が上から数えて何番目のものか\n",
    "            delete_num = index + 1 - delete_count\n",
    "            compressed_K = np.delete(compressed_K, delete_num - 1, 0)\n",
    "            compressed_K = np.delete(compressed_K, delete_num - 1, 1)\n",
    "            compressed_d = np.delete(compressed_d, delete_num - 1, 0)\n",
    "            compressed_F = np.delete(compressed_F, delete_num - 1, 0)                      \n",
    "            delete_count += 1\n",
    "            \n",
    "    return { \"compressed_K\": compressed_K, \"compressed_F\": compressed_F }"
   ]
  },
  {
   "cell_type": "code",
   "execution_count": 83,
   "metadata": {},
   "outputs": [],
   "source": [
    "# connect_infoは要素を作っているnode番号, Aは要素面積\n",
    "# known_part_of_dとknow_part_of_Fは境界条件より既知となる部分\n",
    "# E: Young's module PR: Poisson's ratio\n",
    "\n",
    "def CST_FEM(node_data, element_data, known_part_of_d, known_part_of_F, E, PR):\n",
    "#     Kを0で初期化\n",
    "    K = np.zeros([node_data.shape[0] * 2, node_data.shape[0] * 2])\n",
    "    element_elastic_matrix = elastic_matrix(E, PR)\n",
    "#     assembling\n",
    "    for element in element_data:\n",
    "        element_B_matrix = B_matrix(element['connect_info'], element['A'], node_data)\n",
    "        element_K_matrix = K_matrix(element_B_matrix, element_elastic_matrix, element['A'])\n",
    "        \n",
    "#       Kに対応する部分を足していく\n",
    "#       node_i, node_jはnodeのglobal番号\n",
    "        for i, node_i in enumerate(element['connect_info']):\n",
    "            for j, node_j in enumerate(element['connect_info']):\n",
    "                K[2*(node_i - 1)][2*(node_j - 1)] += element_K_matrix[2 * i][2 * j]\n",
    "                K[2*(node_i - 1)][2*(node_j - 1) + 1] += element_K_matrix[2 * i][2 * j + 1]\n",
    "                K[2*(node_i - 1) + 1][2*(node_j - 1)] += element_K_matrix[2 * i + 1][2 * j]\n",
    "                K[2*(node_i - 1) + 1][2*(node_j - 1) + 1] += element_K_matrix[2 * i + 1][2 * j + 1]\n",
    "    \n",
    "#   dとFをNoneで初期化\n",
    "    d = [None] * (node_data.shape[0] * 2)\n",
    "    F = [None] * (node_data.shape[0] * 2)\n",
    "    \n",
    "#     dとFに既知の部分を代入\n",
    "    for k, v in known_part_of_d.items():\n",
    "#         vecはuまたはv方向\n",
    "        vec = k[0]\n",
    "        node_num = int(k[1])\n",
    "        if vec == 'u':\n",
    "            d[(node_num - 1) * 2] = v\n",
    "        elif vec == 'v':\n",
    "            d[(node_num - 1) * 2 + 1] = v\n",
    "            \n",
    "    for k, v in known_part_of_F.items():\n",
    "#         vecはHまたはV方向\n",
    "        vec = k[0]\n",
    "        node_num = int(k[1])\n",
    "        if vec == 'H':\n",
    "            F[(node_num - 1) * 2] = v\n",
    "        elif vec == 'V':\n",
    "            F[(node_num - 1) * 2 + 1] = v\n",
    "#     uが既知の部分のkd = Fを削除して未知の部分のdを求める\n",
    "    compressed_K_F_dict = compress_K_F(K, d, F)\n",
    "    compressed_K = compressed_K_F_dict['compressed_K'].astype(np.float64)\n",
    "    compressed_F = compressed_K_F_dict['compressed_F'].astype(np.float64)\n",
    "    compressed_d = np.linalg.solve(compressed_K, compressed_F)\n",
    "#     dの未知の部分に求めたcompressed_dを代入\n",
    "#     compressed_dの対応するindex\n",
    "    compressed_d_index = 0\n",
    "    \n",
    "    for index, element_d in enumerate(d):\n",
    "        if element_d == None:\n",
    "            d[index] = compressed_d[compressed_d_index]\n",
    "            compressed_d_index += 1\n",
    "            \n",
    "    for index, element_F in enumerate(F):\n",
    "        if element_F == None:\n",
    "            F[index] = np.dot(K[index], d)\n",
    "    \n",
    "    cordinates = copy(node_data)\n",
    "    for i in range(0, node_data.shape[0]):\n",
    "        cordinates[i][0] += d[i * 2]\n",
    "        cordinates[i][1] += d[i * 2 + 1]\n",
    "    \n",
    "    return { 'd': d, 'F': F, 'cordinates': cordinates }"
   ]
  },
  {
   "cell_type": "code",
   "execution_count": 84,
   "metadata": {},
   "outputs": [],
   "source": [
    "result = CST_FEM(node_data, element_data, known_part_of_d, known_part_of_F, E, PR)"
   ]
  },
  {
   "cell_type": "code",
   "execution_count": 85,
   "metadata": {},
   "outputs": [],
   "source": [
    "result = CST_FEM(node_data2, element_data2, known_part_of_d2, known_part_of_F2, E2, PR2)"
   ]
  },
  {
   "cell_type": "code",
   "execution_count": 86,
   "metadata": {},
   "outputs": [
    {
     "data": {
      "text/plain": [
       "{'d': [0.8571428571428574,\n",
       "  -2.285714285714286,\n",
       "  -0.857142857142857,\n",
       "  -3.428571428571429,\n",
       "  0,\n",
       "  0,\n",
       "  0,\n",
       "  0],\n",
       " 'F': [0,\n",
       "  0,\n",
       "  0,\n",
       "  -100,\n",
       "  -100.00000000000003,\n",
       "  57.14285714285715,\n",
       "  100.0,\n",
       "  42.85714285714286],\n",
       " 'cordinates': array([[ 1.85714286, -1.28571429],\n",
       "        [ 0.14285714, -3.42857143],\n",
       "        [ 0.        ,  1.        ],\n",
       "        [ 0.        ,  0.        ]])}"
      ]
     },
     "execution_count": 86,
     "metadata": {},
     "output_type": "execute_result"
    }
   ],
   "source": [
    "result"
   ]
  },
  {
   "cell_type": "code",
   "execution_count": 87,
   "metadata": {},
   "outputs": [],
   "source": [
    "cordinates = result['cordinates']"
   ]
  },
  {
   "cell_type": "code",
   "execution_count": 88,
   "metadata": {},
   "outputs": [],
   "source": [
    "X = np.zeros(4, dtype=np.float64)\n",
    "Y = np.zeros(4, dtype=np.float64)\n",
    "\n",
    "for i in range(0, 4):\n",
    "    X[i] += node_data2[i][0]\n",
    "    Y[i] += node_data2[i][1]"
   ]
  },
  {
   "cell_type": "code",
   "execution_count": 89,
   "metadata": {
    "lines_to_next_cell": 0
   },
   "outputs": [],
   "source": [
    "x = np.zeros(4, dtype=np.float64)\n",
    "y = np.zeros(4, dtype=np.float64)\n",
    "\n",
    "for i in range(0, 4):\n",
    "    x[i] += cordinates[i][0]\n",
    "    y[i] += cordinates[i][1]"
   ]
  },
  {
   "cell_type": "code",
   "execution_count": 90,
   "metadata": {
    "lines_to_next_cell": 0
   },
   "outputs": [
    {
     "data": {
      "image/png": "[encoded data removed]",
      "text/plain": [
       "<Figure size 432x288 with 1 Axes>"
      ]
     },
     "metadata": {
      "needs_background": "light"
     },
     "output_type": "display_data"
    }
   ],
   "source": [
    "def main():\n",
    "    fig = plt.figure()\n",
    "    ax = fig.add_subplot(1, 1, 1)\n",
    "    ax.scatter(x, y, c='red')\n",
    "    ax.scatter(X, Y, c='blue')\n",
    "    ax.set_aspect('equal')\n",
    "    plt.show()\n",
    "\n",
    "if __name__ == '__main__':\n",
    "    main()"
   ]
  },
  {
   "cell_type": "code",
   "execution_count": null,
   "metadata": {},
   "outputs": [],
   "source": []
  },
  {
   "cell_type": "code",
   "execution_count": null,
   "metadata": {
    "lines_to_next_cell": 2
   },
   "outputs": [],
   "source": []
  }
 ],
 "metadata": {
  "jupytext": {
   "text_representation": {
    "extension": ".py",
    "format_name": "light",
    "format_version": "1.4",
    "jupytext_version": "1.1.1"
   }
  },
  "kernelspec": {
   "display_name": "Python 3",
   "language": "python",
   "name": "python3"
  },
  "language_info": {
   "codemirror_mode": {
    "name": "ipython",
    "version": 3
   },
   "file_extension": ".py",
   "mimetype": "text/x-python",
   "name": "python",
   "nbconvert_exporter": "python",
   "pygments_lexer": "ipython3",
   "version": "3.7.3"
  }
 },
 "nbformat": 4,
 "nbformat_minor": 2
}
