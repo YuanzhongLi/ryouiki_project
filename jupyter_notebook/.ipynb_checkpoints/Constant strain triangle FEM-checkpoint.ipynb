{
 "cells": [
  {
   "cell_type": "code",
   "execution_count": 1,
   "metadata": {},
   "outputs": [],
   "source": [
    "import numpy as np\n",
    "import pandas as pd"
   ]
  },
  {
   "cell_type": "code",
   "execution_count": 2,
   "metadata": {},
   "outputs": [],
   "source": [
    "node_data = np.array([[0, 0], [1, 0], [0, 1], [1, 1]])\n",
    "# connect_infoは要素を作っているnode番号, Aは要素面積\n",
    "element_data = np.array([{\"connect_info\": [1, 4, 3], \"A\": 0.5}, {\"connect_info\": [4, 1, 2], \"A\": 0.5}])\n",
    "# 境界条件より既知となる部分\n",
    "known_part_of_d = { \"u1\": 0, \"v1\": 0, \"v2\": 0, \"u3\": 0 }\n",
    "know_part_of_F = { \"H2\": 5, \"V3\": 0, \"H4\": 5, \"V4\": 5 }\n",
    "E = 100\n",
    "PR = (1 / 3)"
   ]
  },
  {
   "cell_type": "code",
   "execution_count": 29,
   "metadata": {},
   "outputs": [],
   "source": [
    "node_data2 = np.array([[1, 1], [1, 0], [0, 1], [0, 0]])\n",
    "element_data2 = np.array([{\"connect_info\": [1, 2, 4], \"A\": 0.5}, {\"connect_info\": [1, 3, 4], \"A\": 0.5}])"
   ]
  },
  {
   "cell_type": "code",
   "execution_count": 31,
   "metadata": {},
   "outputs": [],
   "source": [
    "# E: Young's module PR: Poisson's ratio\n",
    "def elastic_matrix(E, PR):\n",
    "    return (E / (1 - PR ** 2)) * np.array([[1, PR, 0], [PR, 1, 0], [0, 0, (1 - PR) / 2]])"
   ]
  },
  {
   "cell_type": "code",
   "execution_count": 64,
   "metadata": {},
   "outputs": [],
   "source": [
    "def B_matrix(connect_info, A, node_data):\n",
    "    n1 = node_data[connect_info[0] - 1]\n",
    "    n2 = node_data[connect_info[1] - 1]\n",
    "    n3 = node_data[connect_info[2] - 1]\n",
    "#     変位ーひずみ行列\n",
    "    return (1 / (2 * A)) * np.array([\\\n",
    "                     np.array([n2[1] - n3[1], 0, n3[1]- n1[1], 0, n1[1] - n2[1], 0]),\\\n",
    "                     np.array([0, n3[0] - n2[0], 0, n1[0] - n3[0], 0, n2[0] - n1[0]]),\\\n",
    "                     np.array([n3[0] - n2[0], n2[1] - n3[1], n1[0] - n3[0], n3[1] - n1[1], n2[0] - n1[0], n1[1] - n2[1]])\\\n",
    "                    ])"
   ]
  },
  {
   "cell_type": "code",
   "execution_count": 5,
   "metadata": {},
   "outputs": [],
   "source": [
    "nodes = np.array([[1, 1], [1, 0], [0, 0]])\n"
   ]
  },
  {
   "cell_type": "code",
   "execution_count": 22,
   "metadata": {},
   "outputs": [],
   "source": [
    "# ex) nodes = np.array([[1, 1], [1, 0], [0, 0]])\n",
    "\n",
    "def shape_fucntions(nodes):\n",
    "    DSF = np.hstack([np.array([[1], [1], [1]]), nodes])\n",
    "    N1 = np.linalg.solve(DSF, np.array([1, 0, 0]))\n",
    "    N2 = np.linalg.solve(DSF, np.array([0, 1, 0]))\n",
    "    N3 = np.linalg.solve(DSF, np.array([0, 0, 1]))\n",
    "    N = np.array([N1, N2, N3])\n",
    "    return N"
   ]
  },
  {
   "cell_type": "code",
   "execution_count": 23,
   "metadata": {},
   "outputs": [
    {
     "data": {
      "text/plain": [
       "array([[ 0., -0.,  1.],\n",
       "       [ 0.,  1., -1.],\n",
       "       [ 1., -1., -0.]])"
      ]
     },
     "execution_count": 23,
     "metadata": {},
     "output_type": "execute_result"
    }
   ],
   "source": [
    "shape_fucntions(nodes)"
   ]
  },
  {
   "cell_type": "code",
   "execution_count": 41,
   "metadata": {},
   "outputs": [],
   "source": [
    "def B_matrix(connect_info, A, node_data):\n",
    "    node1 = node_data[connect_info[0] - 1]\n",
    "    node2 = node_data[connect_info[1] - 1]\n",
    "    node3 = node_data[connect_info[2] - 1]\n",
    "    nodes = np.array([node1, node2, node3])\n",
    "    N = shape_fucntions(nodes)\n",
    "#     print(N)\n",
    "    B = (1 / (2 * A)) * np.array([\\\n",
    "                     np.array([N[0][1], 0, N[1][1], 0, N[2][1], 0]),\\\n",
    "                     np.array([0, N[0][2], 0, N[1][2], 0, N[2][2]]),\\\n",
    "                     np.array([N[0][2], N[0][1], N[1][2], N[1][1], N[2][2], N[2][1]])\\\n",
    "                    ])\n",
    "    return B\n",
    "    "
   ]
  },
  {
   "cell_type": "code",
   "execution_count": 33,
   "metadata": {},
   "outputs": [],
   "source": [
    "def K_matrix(B_matrix, elastic_matrix, A):\n",
    "    return A * np.dot(np.dot(B_matrix.T, elastic_matrix), B_matrix)    "
   ]
  },
  {
   "cell_type": "code",
   "execution_count": 26,
   "metadata": {},
   "outputs": [],
   "source": [
    "# dの未知の要素に対応する行、列を削除\n",
    "def compress_K_F(K, d, F):\n",
    "    compressed_K = K\n",
    "    compressed_d = d\n",
    "    compressed_F = F\n",
    "#     いくつ削除したかを記憶する\n",
    "    delete_count = 0\n",
    "    for index, element_d in enumerate(d):\n",
    "        if element_d != None:\n",
    "#             削除する行と列が上から数えて何番目のものか\n",
    "            delete_num = index + 1 - delete_count\n",
    "            compressed_K = np.delete(compressed_K, delete_num - 1, 0)\n",
    "            compressed_K = np.delete(compressed_K, delete_num - 1, 1)\n",
    "            compressed_d = np.delete(compressed_d, delete_num - 1, 0)\n",
    "            compressed_F = np.delete(compressed_F, delete_num - 1, 0)                      \n",
    "            delete_count += 1\n",
    "    \n",
    "    return { \"compressed_K\": compressed_K, \"compressed_F\": compressed_F }"
   ]
  },
  {
   "cell_type": "code",
   "execution_count": 39,
   "metadata": {},
   "outputs": [],
   "source": [
    "# connect_infoは要素を作っているnode番号, Aは要素面積\n",
    "# known_part_of_dとknow_part_of_Fは境界条件より既知となる部分\n",
    "# E: Young's module PR: Poisson's ratio\n",
    "\n",
    "def CST_FEM(node_data, element_data, known_part_of_d, know_part_of_F, E, PR):\n",
    "#     Kを0で初期化\n",
    "    K = np.zeros([node_data.shape[0] * 2, node_data.shape[0] * 2])\n",
    "    element_elastic_matrix = elastic_matrix(E, PR)\n",
    "#     assembling\n",
    "    for element in element_data:\n",
    "        element_B_matrix = B_matrix(element['connect_info'], element['A'], node_data)\n",
    "        print(element_B_matrix)\n",
    "        element_K_matrix = K_matrix(element_B_matrix, element_elastic_matrix, element['A'])\n",
    "        \n",
    "#       Kに対応する部分を足していく\n",
    "#       node_numはnodeの番号\n",
    "        for index, node_num in enumerate(element['connect_info']):\n",
    "            K[2*(node_num - 1)][2*(node_num - 1)] += element_K_matrix[2 * index][2 * index]\n",
    "            K[2*(node_num - 1)][2*(node_num - 1) + 1] += element_K_matrix[2 * index][2 * index + 1]\n",
    "            K[2*(node_num - 1) + 1][2*(node_num - 1)] += element_K_matrix[2 * index + 1][2 * index]\n",
    "            K[2*(node_num - 1) + 1][2*(node_num - 1) + 1] += element_K_matrix[2 * index + 1][2 * index + 1]\n",
    "     \n",
    "#   dとFをNoneで初期化\n",
    "    d = [None] * (node_data.shape[0] * 2)\n",
    "    F = [None] * (node_data.shape[0] * 2)\n",
    "    \n",
    "#     dとFに既知の部分を代入\n",
    "    for k, v in known_part_of_d.items():\n",
    "#         vecはuまたはv方向\n",
    "        vec = k[0]\n",
    "        node_num = int(k[1])\n",
    "        if vec == 'u':\n",
    "            d[(node_num - 1) * 2] = v\n",
    "        elif vec == 'v':\n",
    "            d[(node_num - 1) * 2 + 1] = v\n",
    "            \n",
    "    for k, v in known_part_of_d.items():\n",
    "#         vecはHまたはV方向\n",
    "        vec = k[0]\n",
    "        node_num = int(k[1])\n",
    "        if vec == 'H':\n",
    "            F[(node_num - 1) * 2] = v\n",
    "        elif vec == 'V':\n",
    "            F[(node_num - 1) * 2 + 1] = v\n",
    "#     uが既知の部分のkd = Fを削除して未知の部分のdを求める\n",
    "    compressed_K_F_dict = compress_K_F(K, d, F)\n",
    "    compressed_K = compressed_K_F_dict['compressed_K']\n",
    "    compressed_F = compressed_K_F_dict['compressed_F']\n",
    "    compressed_d = np.linalg.solve(compressed_K, compressed_F)\n",
    "    \n",
    "#     dの未知の部分に求めたcompressed_dを代入\n",
    "#     compressed_dの対応するindex\n",
    "    compressed_d_index = 0\n",
    "    for index, element_d in d:\n",
    "        if element_d == None:\n",
    "            d[index] = compressed_d[compressed_d_index]\n",
    "            compressed_d_index += 1\n",
    "            \n",
    "    for index, element_F in F:\n",
    "        if element_F == None:\n",
    "            F[index] = np.dot(K[index], d)\n",
    "            \n",
    "    return { 'd': d, 'F': F }"
   ]
  },
  {
   "cell_type": "code",
   "execution_count": 42,
   "metadata": {},
   "outputs": [
    {
     "name": "stdout",
     "output_type": "stream",
     "text": [
      "[[ 0. -0.  1.]\n",
      " [ 0.  1. -1.]\n",
      " [ 1. -1. -0.]]\n",
      "[[-0.  0.  1.  0. -1.  0.]\n",
      " [ 0.  1.  0. -1.  0. -0.]\n",
      " [ 1. -0. -1.  1. -0. -1.]]\n",
      "[[ 0.  1. -0.]\n",
      " [ 0. -1.  1.]\n",
      " [ 1. -0. -1.]]\n",
      "[[ 1.  0. -1.  0. -0.  0.]\n",
      " [ 0. -0.  0.  1.  0. -1.]\n",
      " [-0.  1.  1. -1. -1. -0.]]\n"
     ]
    },
    {
     "ename": "TypeError",
     "evalue": "No loop matching the specified signature and casting\nwas found for ufunc solve1",
     "output_type": "error",
     "traceback": [
      "\u001b[0;31m---------------------------------------------------------------------------\u001b[0m",
      "\u001b[0;31mTypeError\u001b[0m                                 Traceback (most recent call last)",
      "\u001b[0;32m<ipython-input-42-e5d567f0ac87>\u001b[0m in \u001b[0;36m<module>\u001b[0;34m\u001b[0m\n\u001b[0;32m----> 1\u001b[0;31m \u001b[0mCST_FEM\u001b[0m\u001b[0;34m(\u001b[0m\u001b[0mnode_data2\u001b[0m\u001b[0;34m,\u001b[0m \u001b[0melement_data2\u001b[0m\u001b[0;34m,\u001b[0m \u001b[0mknown_part_of_d\u001b[0m\u001b[0;34m,\u001b[0m \u001b[0mknow_part_of_F\u001b[0m\u001b[0;34m,\u001b[0m \u001b[0mE\u001b[0m\u001b[0;34m,\u001b[0m \u001b[0mPR\u001b[0m\u001b[0;34m)\u001b[0m\u001b[0;34m\u001b[0m\u001b[0;34m\u001b[0m\u001b[0m\n\u001b[0m",
      "\u001b[0;32m<ipython-input-39-1842f64f9e82>\u001b[0m in \u001b[0;36mCST_FEM\u001b[0;34m(node_data, element_data, known_part_of_d, know_part_of_F, E, PR)\u001b[0m\n\u001b[1;32m     47\u001b[0m     \u001b[0mcompressed_K\u001b[0m \u001b[0;34m=\u001b[0m \u001b[0mcompressed_K_F_dict\u001b[0m\u001b[0;34m[\u001b[0m\u001b[0;34m'compressed_K'\u001b[0m\u001b[0;34m]\u001b[0m\u001b[0;34m\u001b[0m\u001b[0;34m\u001b[0m\u001b[0m\n\u001b[1;32m     48\u001b[0m     \u001b[0mcompressed_F\u001b[0m \u001b[0;34m=\u001b[0m \u001b[0mcompressed_K_F_dict\u001b[0m\u001b[0;34m[\u001b[0m\u001b[0;34m'compressed_F'\u001b[0m\u001b[0;34m]\u001b[0m\u001b[0;34m\u001b[0m\u001b[0;34m\u001b[0m\u001b[0m\n\u001b[0;32m---> 49\u001b[0;31m     \u001b[0mcompressed_d\u001b[0m \u001b[0;34m=\u001b[0m \u001b[0mnp\u001b[0m\u001b[0;34m.\u001b[0m\u001b[0mlinalg\u001b[0m\u001b[0;34m.\u001b[0m\u001b[0msolve\u001b[0m\u001b[0;34m(\u001b[0m\u001b[0mcompressed_K\u001b[0m\u001b[0;34m,\u001b[0m \u001b[0mcompressed_F\u001b[0m\u001b[0;34m)\u001b[0m\u001b[0;34m\u001b[0m\u001b[0;34m\u001b[0m\u001b[0m\n\u001b[0m\u001b[1;32m     50\u001b[0m \u001b[0;34m\u001b[0m\u001b[0m\n\u001b[1;32m     51\u001b[0m \u001b[0;31m#     dの未知の部分に求めたcompressed_dを代入\u001b[0m\u001b[0;34m\u001b[0m\u001b[0;34m\u001b[0m\u001b[0;34m\u001b[0m\u001b[0m\n",
      "\u001b[0;32m~/.local/share/virtualenvs/jupyter_notebook-bHfyOeUN/lib/python3.7/site-packages/numpy/linalg/linalg.py\u001b[0m in \u001b[0;36msolve\u001b[0;34m(a, b)\u001b[0m\n\u001b[1;32m    401\u001b[0m     \u001b[0msignature\u001b[0m \u001b[0;34m=\u001b[0m \u001b[0;34m'DD->D'\u001b[0m \u001b[0;32mif\u001b[0m \u001b[0misComplexType\u001b[0m\u001b[0;34m(\u001b[0m\u001b[0mt\u001b[0m\u001b[0;34m)\u001b[0m \u001b[0;32melse\u001b[0m \u001b[0;34m'dd->d'\u001b[0m\u001b[0;34m\u001b[0m\u001b[0;34m\u001b[0m\u001b[0m\n\u001b[1;32m    402\u001b[0m     \u001b[0mextobj\u001b[0m \u001b[0;34m=\u001b[0m \u001b[0mget_linalg_error_extobj\u001b[0m\u001b[0;34m(\u001b[0m\u001b[0m_raise_linalgerror_singular\u001b[0m\u001b[0;34m)\u001b[0m\u001b[0;34m\u001b[0m\u001b[0;34m\u001b[0m\u001b[0m\n\u001b[0;32m--> 403\u001b[0;31m     \u001b[0mr\u001b[0m \u001b[0;34m=\u001b[0m \u001b[0mgufunc\u001b[0m\u001b[0;34m(\u001b[0m\u001b[0ma\u001b[0m\u001b[0;34m,\u001b[0m \u001b[0mb\u001b[0m\u001b[0;34m,\u001b[0m \u001b[0msignature\u001b[0m\u001b[0;34m=\u001b[0m\u001b[0msignature\u001b[0m\u001b[0;34m,\u001b[0m \u001b[0mextobj\u001b[0m\u001b[0;34m=\u001b[0m\u001b[0mextobj\u001b[0m\u001b[0;34m)\u001b[0m\u001b[0;34m\u001b[0m\u001b[0;34m\u001b[0m\u001b[0m\n\u001b[0m\u001b[1;32m    404\u001b[0m \u001b[0;34m\u001b[0m\u001b[0m\n\u001b[1;32m    405\u001b[0m     \u001b[0;32mreturn\u001b[0m \u001b[0mwrap\u001b[0m\u001b[0;34m(\u001b[0m\u001b[0mr\u001b[0m\u001b[0;34m.\u001b[0m\u001b[0mastype\u001b[0m\u001b[0;34m(\u001b[0m\u001b[0mresult_t\u001b[0m\u001b[0;34m,\u001b[0m \u001b[0mcopy\u001b[0m\u001b[0;34m=\u001b[0m\u001b[0;32mFalse\u001b[0m\u001b[0;34m)\u001b[0m\u001b[0;34m)\u001b[0m\u001b[0;34m\u001b[0m\u001b[0;34m\u001b[0m\u001b[0m\n",
      "\u001b[0;31mTypeError\u001b[0m: No loop matching the specified signature and casting\nwas found for ufunc solve1"
     ]
    }
   ],
   "source": [
    "CST_FEM(node_data2, element_data2, known_part_of_d, know_part_of_F, E, PR)"
   ]
  },
  {
   "cell_type": "code",
   "execution_count": null,
   "metadata": {},
   "outputs": [],
   "source": [
    "a = { 'a': 1 }"
   ]
  },
  {
   "cell_type": "code",
   "execution_count": null,
   "metadata": {},
   "outputs": [],
   "source": [
    "a.a"
   ]
  },
  {
   "cell_type": "code",
   "execution_count": null,
   "metadata": {},
   "outputs": [],
   "source": [
    "a = "
   ]
  },
  {
   "cell_type": "code",
   "execution_count": null,
   "metadata": {},
   "outputs": [],
   "source": []
  }
 ],
 "metadata": {
  "jupytext": {
   "text_representation": {
    "extension": ".py",
    "format_name": "light",
    "format_version": "1.4",
    "jupytext_version": "1.1.1"
   }
  },
  "kernelspec": {
   "display_name": "Python 3",
   "language": "python",
   "name": "python3"
  },
  "language_info": {
   "codemirror_mode": {
    "name": "ipython",
    "version": 3
   },
   "file_extension": ".py",
   "mimetype": "text/x-python",
   "name": "python",
   "nbconvert_exporter": "python",
   "pygments_lexer": "ipython3",
   "version": "3.7.3"
  }
 },
 "nbformat": 4,
 "nbformat_minor": 2
}
