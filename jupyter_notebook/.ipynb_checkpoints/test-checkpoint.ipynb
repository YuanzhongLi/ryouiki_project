{
 "cells": [
  {
   "cell_type": "code",
   "execution_count": 1,
   "metadata": {},
   "outputs": [],
   "source": [
    "import numpy as np\n",
    "import pandas as pd"
   ]
  },
  {
   "cell_type": "code",
   "execution_count": 26,
   "metadata": {},
   "outputs": [
    {
     "data": {
      "text/plain": [
       "1.0"
      ]
     },
     "execution_count": 26,
     "metadata": {},
     "output_type": "execute_result"
    }
   ],
   "source": [
    "# h: 要素の長さ, E: ヤング率, A: 断面積, b: 単位当たりの長さの物体力\n",
    "factor_data_dic = { 'h': [1.0, 1.0], 'E': [2.0, 2.0], 'A': [2.0, 1.0], 'b': [0.0, 0.0] }\n",
    "df = pd.DataFrame(factor_data_dic)\n",
    "df"
   ]
  },
  {
   "cell_type": "code",
   "execution_count": 101,
   "metadata": {},
   "outputs": [],
   "source": [
    "# 3点でのFEM\n",
    "# 3点でのFEM\n",
    "class Point3D1FEM():\n",
    "    def __init__(self, df, p, left_side_u):\n",
    "        self.df = df\n",
    "        # pは右端から引っ張られている力\n",
    "        self.p = p\n",
    "        # left_side_uは左端の変位\n",
    "        self.left_side_u = left_side_u\n",
    "\n",
    "        self.front_EA_dividedby_h = self.df.E[0] * self.df.A[0] / self.df.h[0]\n",
    "        self.back_EA_dividedby_h = self.df.E[1] * self.df.A[1] / self.df.h[1]\n",
    "        self.front_defautlt_np_array = np.array([[1, 0, -1], [0, 0, 0], [-1, 0, 1]])\n",
    "        self.back_defautlt_np_array = np.array([[0, 0, 0], [0, 1, -1], [0, -1, 1]])\n",
    "        self.np_array_K = self.front_EA_dividedby_h * self.front_defautlt_np_array + self.back_EA_dividedby_h * self.back_defautlt_np_array\n",
    "        \n",
    "        # 変位array\n",
    "        self.u_array = np.array([self.left_side_u])\n",
    "        # 力array\n",
    "        self.R_array = np.array([self.p, 0])\n",
    "\n",
    "        self.A = np.delete(self.np_array_K, 0, 1)\n",
    "        self.A = np.delete(self.A, 0, 0)\n",
    "        self.b = self.R_array - self.left_side_u * np.array([self.np_array_K[1][0], self.np_array_K[2][0]])\n",
    "\n",
    "        self.x = np.linalg.solve(self.A, self.b)\n",
    "\n",
    "        self.u_array = np.append(self.u_array, self.x)\n",
    "        self.R_array = np.append(np.array(np.dot(self.np_array_K[0], self.u_array)), self.R_array)"
   ]
  },
  {
   "cell_type": "code",
   "execution_count": 102,
   "metadata": {},
   "outputs": [],
   "source": [
    "fem = Point3D1FEM(df, 4, 0)"
   ]
  },
  {
   "cell_type": "code",
   "execution_count": 104,
   "metadata": {},
   "outputs": [
    {
     "data": {
      "text/plain": [
       "array([0., 3., 1.])"
      ]
     },
     "execution_count": 104,
     "metadata": {},
     "output_type": "execute_result"
    }
   ],
   "source": [
    "fem.u_array"
   ]
  },
  {
   "cell_type": "code",
   "execution_count": 85,
   "metadata": {},
   "outputs": [],
   "source": [
    "class test():\n",
    "    def __init__(self, num):\n",
    "        self.num = num\n",
    "        self.num2 = 1\n",
    "    def number(self):\n",
    "        self.num2 *= self.num\n",
    "        return self.num2\n",
    "    def number2(self):\n",
    "        return self.number() * self.number()"
   ]
  },
  {
   "cell_type": "code",
   "execution_count": 64,
   "metadata": {},
   "outputs": [],
   "source": [
    "test = test(3)"
   ]
  },
  {
   "cell_type": "code",
   "execution_count": 68,
   "metadata": {},
   "outputs": [
    {
     "data": {
      "text/plain": [
       "9"
      ]
     },
     "execution_count": 68,
     "metadata": {},
     "output_type": "execute_result"
    }
   ],
   "source": [
    "test.num2"
   ]
  },
  {
   "cell_type": "code",
   "execution_count": 42,
   "metadata": {},
   "outputs": [
    {
     "name": "stdout",
     "output_type": "stream",
     "text": [
      "ok\n",
      "ok\n"
     ]
    },
    {
     "data": {
      "text/plain": [
       "9"
      ]
     },
     "execution_count": 42,
     "metadata": {},
     "output_type": "execute_result"
    }
   ],
   "source": [
    "test.number2()"
   ]
  },
  {
   "cell_type": "code",
   "execution_count": 28,
   "metadata": {},
   "outputs": [],
   "source": [
    "a1 = np.array([[1, 2], [3, 4]])"
   ]
  },
  {
   "cell_type": "code",
   "execution_count": 30,
   "metadata": {},
   "outputs": [
    {
     "data": {
      "text/plain": [
       "array([[ 4,  8],\n",
       "       [12, 16]])"
      ]
     },
     "execution_count": 30,
     "metadata": {},
     "output_type": "execute_result"
    }
   ],
   "source": [
    "a2 = 4 * a1\n",
    "a2"
   ]
  },
  {
   "cell_type": "code",
   "execution_count": 31,
   "metadata": {},
   "outputs": [
    {
     "data": {
      "text/plain": [
       "array([[ 5, 10],\n",
       "       [15, 20]])"
      ]
     },
     "execution_count": 31,
     "metadata": {},
     "output_type": "execute_result"
    }
   ],
   "source": [
    "a1 + a2"
   ]
  },
  {
   "cell_type": "code",
   "execution_count": 69,
   "metadata": {},
   "outputs": [],
   "source": [
    "b = np.array([[1, 10 ,3], [3, 4, 5], [8, 7, 9]])"
   ]
  },
  {
   "cell_type": "code",
   "execution_count": 73,
   "metadata": {},
   "outputs": [
    {
     "data": {
      "text/plain": [
       "array([[4, 5],\n",
       "       [7, 9]])"
      ]
     },
     "execution_count": 73,
     "metadata": {},
     "output_type": "execute_result"
    }
   ],
   "source": [
    "c = np.delete(b, 0, 1)\n",
    "d = np.delete(c, 0, 0)\n",
    "d"
   ]
  },
  {
   "cell_type": "code",
   "execution_count": 72,
   "metadata": {},
   "outputs": [
    {
     "data": {
      "text/plain": [
       "array([[3, 4, 5],\n",
       "       [8, 7, 9]])"
      ]
     },
     "execution_count": 72,
     "metadata": {},
     "output_type": "execute_result"
    }
   ],
   "source": [
    "b[1:]"
   ]
  },
  {
   "cell_type": "code",
   "execution_count": 74,
   "metadata": {},
   "outputs": [
    {
     "data": {
      "text/plain": [
       "array([0, 1])"
      ]
     },
     "execution_count": 74,
     "metadata": {},
     "output_type": "execute_result"
    }
   ],
   "source": [
    "e = np.array([0,1])\n",
    "np.append(e, [2,3])\n",
    "e"
   ]
  },
  {
   "cell_type": "code",
   "execution_count": null,
   "metadata": {},
   "outputs": [],
   "source": []
  }
 ],
 "metadata": {
  "jupytext": {
   "text_representation": {
    "extension": ".py",
    "format_name": "light",
    "format_version": "1.4",
    "jupytext_version": "1.1.1"
   }
  },
  "kernelspec": {
   "display_name": "Python 3",
   "language": "python",
   "name": "python3"
  },
  "language_info": {
   "codemirror_mode": {
    "name": "ipython",
    "version": 3
   },
   "file_extension": ".py",
   "mimetype": "text/x-python",
   "name": "python",
   "nbconvert_exporter": "python",
   "pygments_lexer": "ipython3",
   "version": "3.7.3"
  }
 },
 "nbformat": 4,
 "nbformat_minor": 2
}
