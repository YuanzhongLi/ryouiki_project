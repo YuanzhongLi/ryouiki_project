{
 "cells": [
  {
   "cell_type": "code",
   "execution_count": 1,
   "metadata": {},
   "outputs": [],
   "source": [
    "import numpy as np\n",
    "import pandas as pd\n",
    "from copy import copy\n",
    "import matplotlib\n",
    "import matplotlib.pyplot as plt"
   ]
  },
  {
   "cell_type": "code",
   "execution_count": 39,
   "metadata": {},
   "outputs": [],
   "source": [
    "node_data = np.array([[0, 0], [1, 0], [0, 1], [1, 1]], dtype=np.float64)\n",
    "# connect_infoは要素を作っているnodeのglobal番号, Aは要素面積\n",
    "element_data = np.array([{\"connect_info\": [1, 2, 4, 3], \"A\": 1}])\n",
    "# 境界条件より既知となる部分\n",
    "known_part_of_d = { \"u1\": 0, \"v1\": 0, \"v2\": 0, \"u3\": 0 }\n",
    "known_part_of_F = { \"H2\": 5, \"V3\": 0, \"H4\": 5, \"V4\": 0 }\n",
    "E = 100\n",
    "PR = (1 / 3)"
   ]
  },
  {
   "cell_type": "code",
   "execution_count": 40,
   "metadata": {},
   "outputs": [],
   "source": [
    "node_data2 = np.array([[1, 1], [1, 0], [0, 1], [0, 0]], dtype=np.float64)\n",
    "element_data2 = np.array([{\"connect_info\": [4, 2, 1, 3], \"A\": 1}])\n",
    "known_part_of_d2 = { \"u3\": 0, \"v3\": 0, \"u4\": 0, \"v4\": 0 }\n",
    "known_part_of_F2 = { \"H1\": 0, \"V1\": 0, \"H2\": 0, \"V2\": -100 }\n",
    "E2 = 100\n",
    "PR2 = 0"
   ]
  },
  {
   "cell_type": "code",
   "execution_count": 41,
   "metadata": {},
   "outputs": [],
   "source": [
    "# E: Young's module PR: Poisson's ratio\n",
    "def elastic_matrix(E, PR):\n",
    "    return (E / (1 - PR ** 2)) * np.array([[1, PR, 0], [PR, 1, 0], [0, 0, (1 - PR) / 2]])"
   ]
  },
  {
   "cell_type": "code",
   "execution_count": 42,
   "metadata": {},
   "outputs": [],
   "source": [
    "# ガウス積分点指定\n",
    "def ab(kk):\n",
    "    if kk == 0:\n",
    "        a = -0.5773502692\n",
    "        b = -0.5773502692\n",
    "    if kk == 1:\n",
    "        a = 0.5773502692\n",
    "        b = -0.5773502692\n",
    "    if kk == 2:\n",
    "        a = 0.5773502692\n",
    "        b = 0.5773502692\n",
    "    if kk == 3:\n",
    "        a = -0.5773502692\n",
    "        b = 0.5773502692\n",
    "    return a,b"
   ]
  },
  {
   "cell_type": "code",
   "execution_count": 43,
   "metadata": {},
   "outputs": [],
   "source": [
    "def B_matrix(a, b, x1, y1, x2, y2, x3, y3, x4, y4):\n",
    "    B = np.zeros((3,8),dtype=np.float64)\n",
    "    #dN/da,dN/db\n",
    "    dn1a = -0.25 * (1.0 - b)\n",
    "    dn2a = 0.25 * (1.0 - b)\n",
    "    dn3a = 0.25 * (1.0 + b)\n",
    "    dn4a = -0.25 * (1.0 + b)\n",
    "    dn1b = -0.25 * (1.0 - a)\n",
    "    dn2b = -0.25 * (1.0 + a)\n",
    "    dn3b = 0.25 * (1.0 + a)\n",
    "    dn4b = 0.25 * (1.0 - a)\n",
    "    #Jacobi matrix and det(J)\n",
    "    J11 = dn1a * x1 + dn2a * x2 + dn3a * x3 + dn4a * x4\n",
    "    J12 = dn1a * y1 + dn2a * y2 + dn3a * y3 + dn4a * y4\n",
    "    J21 = dn1b * x1 + dn2b * x2 + dn3b * x3 + dn4b * x4\n",
    "    J22 = dn1b * y1 + dn2b * y2 + dn3b * y3 + dn4b * y4\n",
    "    detJ = J11 * J22 - J12 * J21\n",
    "    #[B]=[dN/dx][dN/dy]\n",
    "    B[0,0] = J22 * dn1a - J12 * dn1b\n",
    "    B[0,2] = J22 * dn2a - J12 * dn2b\n",
    "    B[0,4] = J22 * dn3a - J12 * dn3b\n",
    "    B[0,6] = J22 * dn4a - J12 * dn4b\n",
    "    B[1,1] = -J21 * dn1a + J11 * dn1b\n",
    "    B[1,3] = -J21 * dn2a + J11 * dn2b\n",
    "    B[1,5] = -J21 * dn3a + J11 * dn3b\n",
    "    B[1,7] = -J21 * dn4a + J11 * dn4b\n",
    "    B[2,0] = -J21 * dn1a + J11 * dn1b\n",
    "    B[2,1] = J22 * dn1a - J12 * dn1b\n",
    "    B[2,2] = -J21 * dn2a + J11 * dn2b\n",
    "    B[2,3] = J22 * dn2a - J12 * dn2b\n",
    "    B[2,4] = -J21 * dn3a + J11 * dn3b\n",
    "    B[2,5] = J22 * dn3a - J12 * dn3b\n",
    "    B[2,6] = -J21 * dn4a + J11 * dn4b\n",
    "    B[2,7] = J22 * dn4a - J12 * dn4b\n",
    "    B = B / detJ\n",
    "    return B, detJ"
   ]
  },
  {
   "cell_type": "code",
   "execution_count": 44,
   "metadata": {},
   "outputs": [],
   "source": [
    "def K_matrix(element_elastic_matrix, A, x1, y1, x2, y2, x3, y3, x4, y4):\n",
    "    K = np.zeros((8,8),dtype = np.float64)\n",
    "    #Stiffness matrix [B]T[D][B]*t*det(J)\n",
    "    for kk in range(0,4):\n",
    "        a, b = ab(kk)\n",
    "        B, detJ = B_matrix(a, b, x1, y1, x2, y2, x3, y3, x4, y4)\n",
    "        K += np.dot(B.T, np.dot(element_elastic_matrix, B)) * float(A) * float(detJ)\n",
    "    return K"
   ]
  },
  {
   "cell_type": "code",
   "execution_count": 45,
   "metadata": {},
   "outputs": [],
   "source": [
    "# dの未知の要素に対応する行、列を削除\n",
    "def compress_K_F(K, d, F):\n",
    "    compressed_K = K\n",
    "    compressed_d = d\n",
    "    compressed_F = F\n",
    "#     いくつ削除したかを記憶する\n",
    "    delete_count = 0\n",
    "    for index, element_d in enumerate(d):\n",
    "        if element_d != None:\n",
    "#             削除する行と列が上から数えて何番目のものか\n",
    "            delete_num = index + 1 - delete_count\n",
    "            compressed_K = np.delete(compressed_K, delete_num - 1, 0)\n",
    "            compressed_K = np.delete(compressed_K, delete_num - 1, 1)\n",
    "            compressed_d = np.delete(compressed_d, delete_num - 1, 0)\n",
    "            compressed_F = np.delete(compressed_F, delete_num - 1, 0)                      \n",
    "            delete_count += 1\n",
    "    return { \"compressed_K\": compressed_K, \"compressed_F\": compressed_F }"
   ]
  },
  {
   "cell_type": "code",
   "execution_count": 46,
   "metadata": {},
   "outputs": [],
   "source": [
    "# connect_infoは要素を作っているnode番号, Aは要素面積\n",
    "# known_part_of_dとknow_part_of_Fは境界条件より既知となる部分\n",
    "# E: Young's module PR: Poisson's ratio\n",
    "\n",
    "def ISO_FEM(node_data, element_data, known_part_of_d, known_part_of_F, E, PR):\n",
    "#     Kを0で初期化\n",
    "    K = np.zeros([node_data.shape[0] * 2, node_data.shape[0] * 2])\n",
    "    element_elastic_matrix = elastic_matrix(E, PR)\n",
    "#     assembling\n",
    "    for element in element_data:\n",
    "        info = element['connect_info']\n",
    "        x1 = node_data[info[0] - 1][0]\n",
    "        y1 = node_data[info[0] - 1][1]\n",
    "        x2 = node_data[info[1] - 1][0]\n",
    "        y2 = node_data[info[1] - 1][1]\n",
    "        x3 = node_data[info[2] - 1][0]\n",
    "        y3 = node_data[info[2] - 1][1]\n",
    "        x4 = node_data[info[3] - 1][0]\n",
    "        y4 = node_data[info[3] - 1][1]          \n",
    "        A = element['A']\n",
    "        \n",
    "        element_K_matrix = K_matrix(element_elastic_matrix, A, x1, y1, x2, y2, x3, y3, x4, y4)\n",
    "        \n",
    "#       Kに対応する部分を足していく\n",
    "#       node_i, node_jはnodeのglobal番号\n",
    "        for i, node_i in enumerate(element['connect_info']):\n",
    "            for j, node_j in enumerate(element['connect_info']):\n",
    "                K[2*(node_i - 1)][2*(node_j - 1)] += element_K_matrix[2 * i][2 * j]\n",
    "                K[2*(node_i - 1)][2*(node_j - 1) + 1] += element_K_matrix[2 * i][2 * j + 1]\n",
    "                K[2*(node_i - 1) + 1][2*(node_j - 1)] += element_K_matrix[2 * i + 1][2 * j]\n",
    "                K[2*(node_i - 1) + 1][2*(node_j - 1) + 1] += element_K_matrix[2 * i + 1][2 * j + 1]\n",
    "\n",
    "#   dとFをNoneで初期化\n",
    "    d = [None] * (node_data.shape[0] * 2)\n",
    "    F = [None] * (node_data.shape[0] * 2)\n",
    "    \n",
    "#     dとFに既知の部分を代入\n",
    "    for k, v in known_part_of_d.items():\n",
    "#         vecはuまたはv方向\n",
    "        vec = k[0]\n",
    "        node_num = int(k[1])\n",
    "        if vec == 'u':\n",
    "            d[(node_num - 1) * 2] = v\n",
    "        elif vec == 'v':\n",
    "            d[(node_num - 1) * 2 + 1] = v\n",
    "            \n",
    "    for k, v in known_part_of_F.items():\n",
    "#         vecはHまたはV方向\n",
    "        vec = k[0]\n",
    "        node_num = int(k[1])\n",
    "        if vec == 'H':\n",
    "            F[(node_num - 1) * 2] = v\n",
    "        elif vec == 'V':\n",
    "            F[(node_num - 1) * 2 + 1] = v\n",
    "#     uが既知の部分のkd = Fを削除して未知の部分のdを求める\n",
    "    compressed_K_F_dict = compress_K_F(K, d, F)\n",
    "    compressed_K = compressed_K_F_dict['compressed_K'].astype(np.float64)\n",
    "    compressed_F = compressed_K_F_dict['compressed_F'].astype(np.float64)\n",
    "    compressed_d = np.linalg.solve(compressed_K, compressed_F)\n",
    "#     dの未知の部分に求めたcompressed_dを代入\n",
    "#     compressed_dの対応するindex\n",
    "    compressed_d_index = 0\n",
    "    \n",
    "    for index, element_d in enumerate(d):\n",
    "        if element_d == None:\n",
    "            d[index] = compressed_d[compressed_d_index]\n",
    "            compressed_d_index += 1\n",
    "            \n",
    "    for index, element_F in enumerate(F):\n",
    "        if element_F == None:\n",
    "            F[index] = np.dot(K[index], d)\n",
    "    \n",
    "    cordinates = copy(node_data)\n",
    "    for i in range(0, node_data.shape[0]):\n",
    "        cordinates[i][0] += d[i * 2]\n",
    "        cordinates[i][1] += d[i * 2 + 1]\n",
    "    return { 'd': d, 'F': F, 'cordinates': cordinates }"
   ]
  },
  {
   "cell_type": "code",
   "execution_count": 47,
   "metadata": {},
   "outputs": [
    {
     "data": {
      "text/plain": [
       "{'d': [0, 0, 0.1, 0, 0, -0.03333333333333334, 0.1, -0.03333333333333333],\n",
       " 'F': [-5.000000000000001,\n",
       "  -3.3306690738754696e-16,\n",
       "  5,\n",
       "  0.0,\n",
       "  -5.000000000000001,\n",
       "  0,\n",
       "  5,\n",
       "  0],\n",
       " 'cordinates': array([[0.        , 0.        ],\n",
       "        [1.1       , 0.        ],\n",
       "        [0.        , 0.96666667],\n",
       "        [1.1       , 0.96666667]])}"
      ]
     },
     "execution_count": 47,
     "metadata": {},
     "output_type": "execute_result"
    }
   ],
   "source": [
    "ISO_FEM(node_data, element_data, known_part_of_d, known_part_of_F, E, PR)"
   ]
  },
  {
   "cell_type": "code",
   "execution_count": 18,
   "metadata": {},
   "outputs": [],
   "source": [
    "result = ISO_FEM(node_data, element_data, known_part_of_d, known_part_of_F, E, PR)"
   ]
  },
  {
   "cell_type": "code",
   "execution_count": 23,
   "metadata": {},
   "outputs": [],
   "source": [
    "result = ISO_FEM(node_data2, element_data2, known_part_of_d2, known_part_of_F2, E2, PR2)"
   ]
  },
  {
   "cell_type": "code",
   "execution_count": 29,
   "metadata": {},
   "outputs": [
    {
     "data": {
      "text/plain": [
       "{'d': [1.9999999999281248,\n",
       "  -3.333333333269444,\n",
       "  -1.9999999999281246,\n",
       "  -4.666666666586805,\n",
       "  0,\n",
       "  0,\n",
       "  0,\n",
       "  0],\n",
       " 'F': [0,\n",
       "  0,\n",
       "  0,\n",
       "  -100,\n",
       "  -99.99999999999997,\n",
       "  66.66666666586805,\n",
       "  99.99999999999997,\n",
       "  33.33333333413195],\n",
       " 'cordinates': array([[ 3.        , -2.33333333],\n",
       "        [-1.        , -4.66666667],\n",
       "        [ 0.        ,  1.        ],\n",
       "        [ 0.        ,  0.        ]])}"
      ]
     },
     "execution_count": 29,
     "metadata": {},
     "output_type": "execute_result"
    }
   ],
   "source": [
    "result"
   ]
  },
  {
   "cell_type": "code",
   "execution_count": 24,
   "metadata": {},
   "outputs": [],
   "source": [
    "cordinates = result['cordinates']"
   ]
  },
  {
   "cell_type": "code",
   "execution_count": 28,
   "metadata": {},
   "outputs": [
    {
     "data": {
      "text/plain": [
       "array([[ 3.        , -2.33333333],\n",
       "       [-1.        , -4.66666667],\n",
       "       [ 0.        ,  1.        ],\n",
       "       [ 0.        ,  0.        ]])"
      ]
     },
     "execution_count": 28,
     "metadata": {},
     "output_type": "execute_result"
    }
   ],
   "source": [
    "cordinates"
   ]
  },
  {
   "cell_type": "code",
   "execution_count": 25,
   "metadata": {},
   "outputs": [],
   "source": [
    "X = np.zeros(4, dtype=np.float64)\n",
    "Y = np.zeros(4, dtype=np.float64)\n",
    "\n",
    "for i in range(0, 4):\n",
    "    X[i] += node_data2[i][0]\n",
    "    Y[i] += node_data2[i][1]"
   ]
  },
  {
   "cell_type": "code",
   "execution_count": 26,
   "metadata": {},
   "outputs": [],
   "source": [
    "x = np.zeros(4, dtype=np.float64)\n",
    "y = np.zeros(4, dtype=np.float64)\n",
    "\n",
    "for i in range(0, 4):\n",
    "    x[i] += cordinates[i][0]\n",
    "    y[i] += cordinates[i][1]"
   ]
  },
  {
   "cell_type": "code",
   "execution_count": 27,
   "metadata": {
    "lines_to_next_cell": 0
   },
   "outputs": [
    {
     "data": {
      "image/png": "[encoded data removed]",
      "text/plain": [
       "<Figure size 432x288 with 1 Axes>"
      ]
     },
     "metadata": {
      "needs_background": "light"
     },
     "output_type": "display_data"
    }
   ],
   "source": [
    "def main():\n",
    "    fig = plt.figure()\n",
    "    ax = fig.add_subplot(1, 1, 1)\n",
    "    ax.scatter(x, y, c='red')\n",
    "    ax.scatter(X, Y, c='blue')\n",
    "    ax.set_aspect('equal')\n",
    "    plt.show()\n",
    "\n",
    "if __name__ == '__main__':\n",
    "    main()"
   ]
  },
  {
   "cell_type": "code",
   "execution_count": null,
   "metadata": {
    "lines_to_next_cell": 2
   },
   "outputs": [],
   "source": []
  }
 ],
 "metadata": {
  "jupytext": {
   "text_representation": {
    "extension": ".py",
    "format_name": "light",
    "format_version": "1.4",
    "jupytext_version": "1.1.1"
   }
  },
  "kernelspec": {
   "display_name": "Python 3",
   "language": "python",
   "name": "python3"
  },
  "language_info": {
   "codemirror_mode": {
    "name": "ipython",
    "version": 3
   },
   "file_extension": ".py",
   "mimetype": "text/x-python",
   "name": "python",
   "nbconvert_exporter": "python",
   "pygments_lexer": "ipython3",
   "version": "3.7.3"
  }
 },
 "nbformat": 4,
 "nbformat_minor": 2
}
